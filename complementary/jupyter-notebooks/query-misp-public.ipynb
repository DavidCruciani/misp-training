{
 "cells": [
  {
   "cell_type": "markdown",
   "metadata": {},
   "source": [
    "# Extracting data from MISP using PyMISP"
   ]
  },
  {
   "cell_type": "markdown",
   "metadata": {},
   "source": [
    "## Recovering the API KEY"
   ]
  },
  {
   "cell_type": "markdown",
   "metadata": {},
   "source": [
    "- Go to `Global Actions` then `My Profile`\n",
    "- Access the `/users/view/me` URL"
   ]
  },
  {
   "cell_type": "code",
   "execution_count": 2,
   "metadata": {},
   "outputs": [],
   "source": [
    "from pymisp import PyMISP\n",
    "import urllib3\n",
    "urllib3.disable_warnings()\n",
    "\n",
    "misp_url = 'https://training.misp-community.org/'\n",
    "misp_key = 'YOURAPIKEY'\n",
    "# Should PyMISP verify the MISP certificate\n",
    "misp_verifycert = False\n",
    "\n",
    "misp = PyMISP(misp_url, misp_key, misp_verifycert)"
   ]
  },
  {
   "cell_type": "code",
   "execution_count": 3,
   "metadata": {},
   "outputs": [],
   "source": [
    "import datetime\n",
    "from pprint import pprint\n",
    "import base64\n",
    "import subprocess"
   ]
  },
  {
   "cell_type": "markdown",
   "metadata": {},
   "source": [
    "## Retrieving an Event"
   ]
  },
  {
   "cell_type": "code",
   "execution_count": 4,
   "metadata": {},
   "outputs": [
    {
     "name": "stdout",
     "output_type": "stream",
     "text": [
      "<MISPEvent(info=OSINT - Zero-Day Exploitation of Unauthenticated Remote Code Execution Vulnerability in GlobalProtect (CVE-2024-3400))\n",
      "<class 'dict'>\n",
      "OSINT - Zero-Day Exploitation of Unauthenticated Remote Code Execution Vulnerability in GlobalProtect (CVE-2024-3400)\n"
     ]
    }
   ],
   "source": [
    "r1 = misp.get_event('9802116c-3ec3-4a8e-8b39-5c69b08df5ab', pythonify=True)\n",
    "print(r1)\n",
    "r2 = misp.get_event(60, pythonify=False)\n",
    "print(type(r2))\n",
    "print(r2['Event']['info'])"
   ]
  },
  {
   "cell_type": "markdown",
   "metadata": {},
   "source": [
    "## Searching the Event index"
   ]
  },
  {
   "cell_type": "code",
   "execution_count": 4,
   "metadata": {},
   "outputs": [
    {
     "name": "stdout",
     "output_type": "stream",
     "text": [
      "339b8437-13e8-4ae6-97dc-47cf909aa78d\n"
     ]
    }
   ],
   "source": [
    "r = misp.search_index(pythonify=True)\n",
    "print(r[1].uuid)"
   ]
  },
  {
   "cell_type": "markdown",
   "metadata": {},
   "source": [
    "#### Only published Events"
   ]
  },
  {
   "cell_type": "code",
   "execution_count": 5,
   "metadata": {},
   "outputs": [
    {
     "name": "stdout",
     "output_type": "stream",
     "text": [
      "[<MISPEvent(info=Targeted phishing - PDF documents / phishkit), <MISPEvent(info=Test Pull From Docker), <MISPEvent(info=OSINT - Zero-Day Exploitation of Unauthenticated Remote Code Execution Vulnerability in GlobalProtect (CVE-2024-3400)), <MISPEvent(info=OSINT - ConnectWise ScreenConnect attacks deliver malware)]\n"
     ]
    }
   ],
   "source": [
    "r = misp.search_index(published=True, pythonify=True)\n",
    "print(r)\n",
    "# print(r[0].to_dict())"
   ]
  },
  {
   "cell_type": "markdown",
   "metadata": {},
   "source": [
    "#### Playing with time"
   ]
  },
  {
   "cell_type": "markdown",
   "metadata": {},
   "source": [
    "**Multiple type of timestamps for Events**\n",
    "- `timestamp`: Timestamp of the **last modification** of the Event or its content (include Attributes, Objects, Tags, ...)\n",
    "- `published_timestamp`: Timestamp of the **last publication** of the Event\n",
    "- To generate report, you usually want to use `publish_timestamp`\n",
    "\n",
    "**Multiple type of dates for Events**\n",
    "- `date_from`: Only events having a more recent date will be returned\n",
    "- `date_to`: Only events having an older date will be returned\n",
    "- Both can be used at once to specify a time window\n"
   ]
  },
  {
   "cell_type": "code",
   "execution_count": 6,
   "metadata": {},
   "outputs": [
    {
     "name": "stdout",
     "output_type": "stream",
     "text": [
      "[<MISPEvent(info=Targeted phishing - PDF documents / phishkit),\n",
      " <MISPEvent(info=Test Pull From Docker),\n",
      " <MISPEvent(info=OSINT - Zero-Day Exploitation of Unauthenticated Remote Code Execution Vulnerability in GlobalProtect (CVE-2024-3400)),\n",
      " <MISPEvent(info=OSINT - ConnectWise ScreenConnect attacks deliver malware)]\n"
     ]
    }
   ],
   "source": [
    "# Using string literal\n",
    "sinceLastMonth = '30d'\n",
    "# Using Python's datetime\n",
    "sinceLastMonth = datetime.date.today() - datetime.timedelta(days=30)\n",
    "\n",
    "r = misp.search_index(published=True, publish_timestamp=sinceLastMonth, pythonify=True)\n",
    "pprint(r)"
   ]
  },
  {
   "cell_type": "markdown",
   "metadata": {},
   "source": [
    "#### Data returned\n",
    "- Searching the index will only returns high-level information about the Event and its attached context\n",
    "\n",
    "- Can be useful for:\n",
    "    - Statistics about number of created Event\n",
    "    - Statistics about Organisation creating Event over time\n",
    "    - Statistics about distribution level usage\n",
    "- And, **If Event correctly contextualized**\n",
    "    - Statistics about **type of incident**\n",
    "    - Adversary tactics and techniques with **MITRE ATT&CK** usage\n",
    "    - Malware familly"
   ]
  },
  {
   "cell_type": "code",
   "execution_count": 7,
   "metadata": {},
   "outputs": [
    {
     "name": "stdout",
     "output_type": "stream",
     "text": [
      "# Event properties\n",
      "['uuid', 'info', 'distribution', 'threat_level_id', 'analysis', 'published', 'date', 'id', 'orgc_id', 'org_id', 'timestamp', 'publish_timestamp', 'sighting_timestamp', 'sharing_group_id', 'Org', 'Orgc', 'attribute_count', 'proposal_email_lock', 'locked', 'disable_correlation', 'extends_uuid', 'GalaxyCluster', 'EventTag']\n",
      "\n",
      " # Event Tags (8)\n",
      "{'Tag': {'colour': '#0088cc',\n",
      "         'id': '6',\n",
      "         'is_galaxy': True,\n",
      "         'name': 'misp-galaxy:mitre-attack-pattern=\"Spearphishing Attachment - '\n",
      "                 'T1193\"'},\n",
      " 'event_id': '58',\n",
      " 'id': '324',\n",
      " 'local': False,\n",
      " 'relationship_type': '',\n",
      " 'tag_id': '6'}\n",
      "\n",
      " # Event Clusters (3)\n"
     ]
    }
   ],
   "source": [
    "event = r[0].to_dict()\n",
    "event_properties = event.keys()\n",
    "print('# Event properties')\n",
    "print(list(event_properties))\n",
    "\n",
    "print('\\n # Event Tags ({0})'.format(len(event['EventTag'])))\n",
    "pprint(event['EventTag'][0])\n",
    "\n",
    "print('\\n # Event Clusters ({0})'.format(len(event['GalaxyCluster'])))"
   ]
  },
  {
   "cell_type": "markdown",
   "metadata": {},
   "source": [
    "#### Useful parameters\n",
    "\n",
    "- `attribute` (Optional[str]) *Filter events on attribute's value*\n",
    "- `published` (Optional[bool])\n",
    "- `hasproposal` (Optional[bool])\n",
    "- `eventid` (Optional[str, int])\n",
    "- `tags` (Optional[str, List[str]])\n",
    "- `date_from` (Optional[datetime, date, int, str, float, None])\n",
    "- `date_to` (Optional[datetime, date, int, str, float, None])\n",
    "- `eventinfo` (Optional[str])\n",
    "- `threatlevel` (Optional[str, int])\n",
    "- `analysis` (Optional[str, int])\n",
    "- `distribution` (Optional[str, int])\n",
    "- `sharinggroup` (Optional[str, int])\n",
    "- `org` (Optional[str, List[[str, int]])\n",
    "- `timestamp` (Optional[datetime, date, int, str, float, None, List[[datetime, date, int, str, float, None], [datetime, date, int, str, float, None]]])\n",
    "    - timestamp=(datetime.today() - timedelta(days=1))\n",
    "    - timestamp=['14d', '7d']\n",
    "    - timestamp=int(datetime.today().timestamp())\n",
    "- `publish_timestamp` (Optional[datetime, date, int, str, float, None, List[[datetime, date, int, str, float, None], [datetime, date, int, str, float, None]]])"
   ]
  },
  {
   "cell_type": "markdown",
   "metadata": {},
   "source": [
    "## Retrieving data with RestSearch\n",
    "\n",
    "The `RestSearch` endpoint can be used on multiple scopes. It has more filtering parameters and is generally flexible.\n",
    "\n",
    "Supported scopes (also called Controllers): `events`, `attributes`, `objects`\n",
    "\n",
    "### `/events/restSearch` VS `/attributes/restSearch`\n",
    "\n",
    "- Both endpoints support most of the parameter\n",
    "- They differs in the data returned\n",
    "    - `/events/restSearch` returns the whole Event with its child elements (Attributes, Objects, Proposals, ..)\n",
    "    - `/attributes/restSearch` returns all attributes"
   ]
  },
  {
   "cell_type": "markdown",
   "metadata": {},
   "source": [
    "#### Getting only metadata: Do not include child elements (such as Attributes, ...)"
   ]
  },
  {
   "cell_type": "code",
   "execution_count": 7,
   "metadata": {},
   "outputs": [
    {
     "name": "stdout",
     "output_type": "stream",
     "text": [
      "[<MISPEvent(info=Ransomware Attack against a French organization),\n",
      " <MISPEvent(info=Dirty harry example),\n",
      " <MISPEvent(info=Kobalos - Linux threat to high performance computing infrastructure),\n",
      " <MISPEvent(info=ATM Vulnerabilities Allow Deposit Forgery Attacks),\n",
      " <MISPEvent(info=Investigation Syrian Electronic Army Activities - Domain(s) Take over via Melbourne IT registrar),\n",
      " <MISPEvent(info=Network relationship with Conti BTC address),\n",
      " <MISPEvent(info=Decaying example),\n",
      " <MISPEvent(info=GRU close access cyber operation against OPCW),\n",
      " <MISPEvent(info=Targeted phishing - PDF documents / phishkit),\n",
      " <MISPEvent(info=Test Pull From Docker),\n",
      " <MISPEvent(info=OSINT - Zero-Day Exploitation of Unauthenticated Remote Code Execution Vulnerability in GlobalProtect (CVE-2024-3400)),\n",
      " <MISPEvent(info=OSINT - ConnectWise ScreenConnect attacks deliver malware),\n",
      " <MISPEvent(info=Test event with some sample indicator to match on Jupyter notebook)]\n"
     ]
    }
   ],
   "source": [
    "r = misp.search(controller='events', metadata=True, pythonify=True)\n",
    "pprint(r)"
   ]
  },
  {
   "cell_type": "markdown",
   "metadata": {},
   "source": [
    "### Searching Attributes with RestSearch"
   ]
  },
  {
   "cell_type": "markdown",
   "metadata": {},
   "source": [
    "#### Searching for values"
   ]
  },
  {
   "cell_type": "code",
   "execution_count": 9,
   "metadata": {},
   "outputs": [
    {
     "name": "stdout",
     "output_type": "stream",
     "text": [
      "Simple value: [<MISPAttribute(type=ip-dst, value=8.8.8.8)]\n",
      "List of values: [<MISPAttribute(type=ip-dst, value=8.8.8.8)]\n",
      "Wildcard: [<MISPAttribute(type=url, value=https://www.github.com/MISP/MISP)]\n"
     ]
    }
   ],
   "source": [
    "r1 = misp.search(controller='attributes', value='8.8.8.8', pythonify=True)\n",
    "print('Simple value:', r1)\n",
    "\n",
    "r2 = misp.search(controller='attributes', value=['8.8.8.8', '5.4.2.1'], pythonify=True)\n",
    "print('List of values:', r2)\n",
    "\n",
    "r3 = misp.search(controller='attributes', value=['https://www.github.com/%'], pythonify=True)\n",
    "print('Wildcard:', r3)"
   ]
  },
  {
   "cell_type": "markdown",
   "metadata": {},
   "source": [
    "#### Searching for types"
   ]
  },
  {
   "cell_type": "code",
   "execution_count": 8,
   "metadata": {},
   "outputs": [
    {
     "name": "stdout",
     "output_type": "stream",
     "text": [
      "[<MISPAttribute(type=first-name, value=Harry),\n",
      " <MISPAttribute(type=first-name, value=Jennifer),\n",
      " <MISPAttribute(type=first-name, value=Samantha),\n",
      " <MISPAttribute(type=first-name, value=Alexey),\n",
      " <MISPAttribute(type=first-name, value=Evengii),\n",
      " <MISPAttribute(type=first-name, value=Oleg)]\n",
      "[<MISPAttribute(type=attachment, value=RANSOM-MAFIA-ANALYSIS-OF-THE-WORLD’S-FIRST-RANSOMWARE-CARTEL.pdf),\n",
      " <MISPAttribute(type=attachment, value=DirtyHarry.jpg),\n",
      " <MISPAttribute(type=attachment, value=sunny.png),\n",
      " <MISPAttribute(type=attachment, value=jennifer-spencer.png),\n",
      " <MISPAttribute(type=attachment, value=samantha.png),\n",
      " <MISPAttribute(type=attachment, value=DirtyHarry-Car.jpg),\n",
      " <MISPAttribute(type=attachment, value=Figure-2.-Overview-of-Kobalos-features-and-ways-to-access-them.png),\n",
      " <MISPAttribute(type=attachment, value=Figure-4.-Sequence-diagram-summarizing-Kobalos-network-protocols.png),\n",
      " <MISPAttribute(type=attachment, value=syrian-conflict-spills-into-cyberspace-2013.pdf),\n",
      " <MISPAttribute(type=attachment, value=sea-1.png),\n",
      " <MISPAttribute(type=attachment, value=sea-2.png),\n",
      " <MISPAttribute(type=attachment, value=Twitter DNS.jpeg),\n",
      " <MISPAttribute(type=attachment, value=Twitter AE.jpeg),\n",
      " <MISPAttribute(type=attachment, value=jabber/2021/11/30/fa50b79e-2746-4d25-911a-6607c9f4a110.gz),\n",
      " <MISPAttribute(type=attachment, value=jabber/2021/11/30/b931c40c-3ca1-4187-aa62-e0c4c0ca7868.gz),\n",
      " <MISPAttribute(type=attachment, value=jabber/2021/11/30/c552e29c-f1be-4d0d-bdf0-80cd2f09580c.gz),\n",
      " <MISPAttribute(type=attachment, value=Screenshot 2023-01-27 145339.png),\n",
      " <MISPAttribute(type=attachment, value=Minin.png),\n",
      " <MISPAttribute(type=attachment, value=Screenshot 2023-01-27 151247.png),\n",
      " <MISPAttribute(type=attachment, value=Screenshot 2023-01-27 151247.png),\n",
      " <MISPAttribute(type=attachment, value=Screenshot 2023-01-27 152911.png),\n",
      " <MISPAttribute(type=attachment, value=Screenshot 2023-01-27 154539.png),\n",
      " <MISPAttribute(type=malware-sample, value=28f73ae365bde8c03d0f93ef73f71c086a026ac58f72b82bb2384c3a5ab42d02|9a58b7f8ba04c32c027126379456e444),\n",
      " <MISPAttribute(type=malware-sample, value=56a73192c75130550294b327b36c051841d3780bd3732b410e0c190db6f9d936|164db8d1fe5f2ea9dd3ea826b2f0b808),\n",
      " <MISPAttribute(type=malware-sample, value=ddcf49145d8c78198138a488b7f99bb4f760777be41b293138e4d5b531cebc73|08b49fb9882bfc8f69beb594fa543c8a),\n",
      " <MISPAttribute(type=malware-sample, value=0fb825db2262d98e29846fa67171e3450666af9c0a6c31eaf8d7c84539be9132|1baa024f9cfab48b92c297aa406c91b5),\n",
      " <MISPAttribute(type=malware-sample, value=c052025b442995f04a68b1b6b2007c36dbf47448c08dc249219a7f3eebd369c2|da877f4f7335264b03ac72fca5b305dc),\n",
      " <MISPAttribute(type=malware-sample, value=f2676b94952018c220ee352b9857bc5ad62195b2d15cdfaf54fa5c5985d6934a|b830fd2997e1f124f34d77ff1fa9b89e),\n",
      " <MISPAttribute(type=malware-sample, value=New-Updated-docs.zip|b7245bf657e792328aaacbc6f75d1555)]\n"
     ]
    }
   ],
   "source": [
    "r1 = misp.search(controller='attributes', type_attribute='first-name', pythonify=True)\n",
    "pprint(r1)\n",
    "\n",
    "r2 = misp.search(controller='attributes', type_attribute=['malware-sample', 'attachment'], pythonify=True)\n",
    "pprint(r2)"
   ]
  },
  {
   "cell_type": "markdown",
   "metadata": {},
   "source": [
    "#### Searching for tags\n",
    "\n",
    "`includeEventTags` is an optional field on Attributes to also include the tags at event level. "
   ]
  },
  {
   "cell_type": "code",
   "execution_count": null,
   "metadata": {},
   "outputs": [],
   "source": [
    "r1 = misp.search(controller='attributes', tags='tlp:red', includeEventTags=True, pythonify=True)\n",
    "print('Simple tag:', len(r1))\n",
    "print('\\tFirst Attribute', r1[0].Tag)\n",
    "r2 = misp.search(controller='attributes', tags=['PAP:RED', 'tlp:red'], pythonify=True)\n",
    "print('List of tags:', len(r2))\n",
    "print('\\tThird Attribute', r2[0].Tag)"
   ]
  },
  {
   "cell_type": "code",
   "execution_count": 6,
   "metadata": {},
   "outputs": [
    {
     "name": "stdout",
     "output_type": "stream",
     "text": [
      "Wildcard: 81\n",
      "\tTags of all Attributes: [[], [], [], [], [], [], [], [], [], [], [], [], [], [], [], [], [], [], [], [], [], [], [], [], [], [], [], [], [], [], [], [], [], [], [], [], [], [], [], [], [], [], [], [], [], [], [], [], [], [], [], [], [], [], [], [], [], [], [], [], [], [], [], [], [], [], [], [], [], [], [], [], [], [], [], [], [], [], [], [], []]\n",
      "\n",
      "Open question: Why do we have Attributes despite them not having the correct tag attached?\n",
      "\n"
     ]
    }
   ],
   "source": [
    "r3 = misp.search(controller='attributes', tags=['misp-galaxy:target-information=%'], pythonify=True)\n",
    "print('Wildcard:', len(r3))\n",
    "print('\\tTags of all Attributes:', [attr.Tag for attr in r3])\n",
    "print()\n",
    "print(base64.b64decode('T3BlbiBxdWVzdGlvbjogV2h5IGRvIHdlIGhhdmUgQXR0cmlidXRlcyBkZXNwaXRlIHRoZW0gbm90IGhhdmluZyB0aGUgY29ycmVjdCB0YWcgYXR0YWNoZWQ/Cg==').decode())"
   ]
  },
  {
   "cell_type": "code",
   "execution_count": null,
   "metadata": {},
   "outputs": [],
   "source": [
    "# DON'T RUN\n",
    "allEventTags = [\n",
    "    [tag.name for tag in misp.get_event(attr.event_id, pythonify=True).Tag if tag.name.startswith('misp-galaxy:target-information=')]\n",
    "    for attr in r3\n",
    "]\n",
    "allUniqueEventTag = set()\n",
    "for tags in allEventTags:\n",
    "    for tag in tags:\n",
    "        allUniqueEventTag.add(tag)\n",
    "print('All unique Event tags:', allUniqueEventTag)"
   ]
  },
  {
   "cell_type": "code",
   "execution_count": null,
   "metadata": {},
   "outputs": [
    {
     "name": "stdout",
     "output_type": "stream",
     "text": [
      "Negation: 78\n"
     ]
    }
   ],
   "source": [
    "r4 = misp.search(\n",
    "    controller='attributes',\n",
    "    tags=['misp-galaxy:target-information=%', '!misp-galaxy:target-information=\"Luxembourg\"'],\n",
    "    pythonify=True)\n",
    "print('Negation:', len(r4))\n",
    "\n",
    "\n",
    "# Showing unique Event tags\n",
    "allEventTags = [\n",
    "    [tag.name for tag in misp.get_event(attr.event_id, pythonify=True).Tag if tag.name.startswith('misp-galaxy:target-information=')]\n",
    "    for attr in r4\n",
    "]\n",
    "allUniqueEventTag = set()\n",
    "for tags in allEventTags:\n",
    "    for tag in tags:\n",
    "        allUniqueEventTag.add(tag)\n",
    "print('All unique Event tags:', allUniqueEventTag)"
   ]
  },
  {
   "cell_type": "markdown",
   "metadata": {},
   "source": [
    "**Want to also have the Event tags included**?"
   ]
  },
  {
   "cell_type": "code",
   "execution_count": null,
   "metadata": {},
   "outputs": [],
   "source": [
    "r5 = misp.search(\n",
    "    controller='attributes',\n",
    "    tags='misp-galaxy:target-information=%',\n",
    "    pythonify=True)\n",
    "print('Tags of first attribute:', [tag.name for tag in r5[0].Tag])\n",
    "\n",
    "r6 = misp.search(\n",
    "    controller='attributes',\n",
    "    tags='misp-galaxy:target-information=%',\n",
    "    includeEventTags=True,\n",
    "    pythonify=True)\n",
    "print('Tags of first attribute:', [tag.name for tag in r6[0].Tag])"
   ]
  },
  {
   "cell_type": "markdown",
   "metadata": {},
   "source": [
    "**Complex query**"
   ]
  },
  {
   "cell_type": "code",
   "execution_count": null,
   "metadata": {},
   "outputs": [],
   "source": [
    "complex_query = misp.build_complex_query(or_parameters=['tlp:amber', 'adversary:infrastructure-type=\"c2\"'])\n",
    "r7 = misp.search(\n",
    "    controller='attributes',\n",
    "    tags=complex_query,\n",
    "    includeEventTags=True,\n",
    "    pythonify=True)\n",
    "print('Or:', len(r7))\n",
    "pprint([\n",
    "    [tag.name for tag in attr.Tag if (tag.name == 'tlp:amber' or tag.name == 'adversary:infrastructure-type=\"c2\"')] for attr in r7[:5]\n",
    "])\n",
    "print()\n",
    "\n",
    "complex_query = misp.build_complex_query(and_parameters=['tlp:amber', 'adversary:infrastructure-type=\"c2\"'])\n",
    "r8 = misp.search(\n",
    "    controller='attributes',\n",
    "    tags=complex_query,\n",
    "    includeEventTags=True,\n",
    "    pythonify=True)\n",
    "print('And:', len(r8))\n",
    "pprint([\n",
    "    [tag.name for tag in attr.Tag if (tag.name == 'tlp:amber' or tag.name == 'adversary:infrastructure-type=\"c2\"')] for attr in r8\n",
    "])"
   ]
  },
  {
   "cell_type": "markdown",
   "metadata": {},
   "source": [
    "#### Searching on GalaxyCluster metadata"
   ]
  },
  {
   "cell_type": "code",
   "execution_count": null,
   "metadata": {},
   "outputs": [],
   "source": [
    "body = {\n",
    "    'galaxy.member-of': 'NATO',\n",
    "    'galaxy.official-languages': 'French',\n",
    "}\n",
    "\n",
    "events = misp.direct_call('/events/restSearch', body)\n",
    "print('Events: ', len(events))\n",
    "for event in events:\n",
    "    print(event['Event']['Tag'])\n",
    "pprint([\n",
    "    [tag['name'] for tag in event['Event']['Tag'] if tag['name'].startswith('misp-galaxy:target-information')] for event in events\n",
    "])"
   ]
  },
  {
   "cell_type": "markdown",
   "metadata": {},
   "source": [
    "- **Note 1**: The `galaxy.*` instructions are not supported by PyMISP\n",
    "- **Note 2**: Each `galaxy.*` instructions are **AND**ed and are applied for the same cluster\n",
    "    - Cannot combine from different clusters\n",
    "    - Combining `Galaxy.official-languages` and `Galaxy.synonyms` would likely gives no result"
   ]
  },
  {
   "cell_type": "markdown",
   "metadata": {},
   "source": [
    "#### Searching on creator Organisation metadata"
   ]
  },
  {
   "cell_type": "code",
   "execution_count": null,
   "metadata": {},
   "outputs": [],
   "source": [
    "all_orgs = misp.organisations()\n",
    "print('Organisation nationality:', {org['Organisation']['name']: org['Organisation']['nationality'] for org in all_orgs})\n",
    "\n",
    "body = {\n",
    "    'org.nationality': ['Luxembourg'],\n",
    "    'org.sector': ['financial'],\n",
    "}\n",
    "\n",
    "events = misp.direct_call('/events/restSearch', body)\n",
    "print('Events: ', len(events))\n",
    "print('Org for each Event:', [event['Event']['Orgc']['name'] for event in events])"
   ]
  },
  {
   "cell_type": "markdown",
   "metadata": {},
   "source": [
    "- **Note 1**: The `org.*` instructions are not supported by PyMISP"
   ]
  },
  {
   "cell_type": "markdown",
   "metadata": {},
   "source": [
    "#### ReturnFormat"
   ]
  },
  {
   "cell_type": "markdown",
   "metadata": {},
   "source": [
    "**CSV**"
   ]
  },
  {
   "cell_type": "code",
   "execution_count": 5,
   "metadata": {},
   "outputs": [
    {
     "name": "stdout",
     "output_type": "stream",
     "text": [
      "uuid,event_id,category,type,value,comment,to_ids,date,object_relation,attribute_tag,object_uuid,object_name,object_meta_category\n",
      "\"239c1d6d-aa74-4ec0-83fd-c00b13e62fb9\",52,\"Network activity\",\"ip-dst\",\"151.80.57.191\",\"\",1,1612343468,\"ip-dst\",\"\",\"\",\"\",\"\"\n",
      "\"e35ebfcb-027e-4fb0-a1de-068121a30af9\",60,\"Network activity\",\"ip-dst\",\"198.58.109.149\",\"server used by the attacker to host malicious files server used by the attacker to host malicious files\",1,1713022532,\"\",\"\",\"\",\"\",\"\"\n",
      "\"af170b81-f692-401e-9a7a-dcd090a82f36\",60,\"Network activity\",\"ip-dst\",\"144.172.79.92\",\"server used by the attacker to host malicious files server used by the attacker to host malicious files\",1,1713022532,\"\",\"\",\"\",\"\",\"\"\n",
      "\"0090d107-48f1-473c-92c8-9995f8df86c1\",60,\"Network activity\",\"ip-dst\",\"172.233.228.93\",\"server used by the attacker to host malicious files server used by the attacker to host malicious files\",1,1713022532,\"\",\"\",\"\",\"\",\"\"\n",
      "\"1bf69d21-1511-4706-9827-13f11a7c602d\",60,\"Network activity\",\"ip-dst\",\"71.9.135.100\",\"Compromised ASUS router used by attacker to interact with compromised devices\",1,1713022563,\"\",\"\",\"\",\"\",\"\"\n",
      "\"9e5a170a-8246-4ad0-8cb3-886b61ac6e29\",60,\"Network activity\",\"ip-dst\",\"89.187.187.69\",\"Surfshark VPN address used in exploitation attempts.\",1,1713022579,\"\",\"\",\"\",\"\",\"\"\n",
      "\"e9227309-0a42-4772-8b49-aaaaaca8c25e\",60,\"Network activity\",\"ip-dst\",\"23.242.208.175\",\"Compromised ASUS router used by attacker to interact with compromised devices\",1,1713022622,\"\",\"\",\"\",\"\",\"\"\n",
      "\"46678675-7083-4935-a139-23809fd3e63f\",60,\"Network activity\",\"ip-dst\",\"137.118.185.101\",\"Compromised ASUS router used by attacker to interact with compromised devices\",1,1713022622,\"\",\"\",\"\",\"\",\"\"\n",
      "\"bbf52063-1901-4b76-96b2-51a252d63f6b\",60,\"Network activity\",\"ip-dst\",\"66.235.168.222\",\"Surfshark VPN address used in exploitation attempts.\",1,1713022644,\"\",\"\",\"\",\"\",\"\"\n",
      "\"18829517-1daa-4c81-b65e-ad060da12e60\",62,\"Network activity\",\"ip-dst\",\"8.8.8.8\",\"\",1,1713151491,\"\",\"\",\"\",\"\",\"\"\n",
      "\"e6f097b6-b34b-4a8c-9f23-73875053a313\",54,\"Network activity\",\"ip-src\",\"151.101.1.164\",\"Attribute #511575 enriched by dns.\",0,1674813309,\"\",\"\",\"\",\"\",\"\"\n",
      "\"1b86ad9e-778f-483d-ab58-c65143791ada\",54,\"Network activity\",\"ip-src\",\"151.101.193.164\",\"Attribute #511579 enriched by dns.\",0,1674813309,\"\",\"\",\"\",\"\",\"\"\n",
      "\"8fd8bba7-d498-4521-9a5a-457242a3c028\",54,\"Network activity\",\"ip-src\",\"141.105.64.37\",\"\",1,1620323648,\"ip-address\",\"\",\"\",\"\",\"\"\n",
      "\"f2a6eb8c-7a3e-4524-8036-1b90cb18fe75\",56,\"Payload delivery\",\"ip-src\",\"149.23.54.0\",\"today\",1,1622184577,\"\",\"\",\"\",\"\",\"\"\n",
      "\"93bc9e55-20e9-4be1-b3e5-057e56a3b82e\",56,\"Payload delivery\",\"ip-src\",\"149.23.54.1\",\"today - 1 days\",1,1622184577,\"\",\"\",\"\",\"\",\"\"\n",
      "\"f7771a53-fbdf-4980-822d-9a2339ce9076\",56,\"Payload delivery\",\"ip-src\",\"149.23.54.2\",\"today - 2 days\",1,1622184577,\"\",\"\",\"\",\"\",\"\"\n",
      "\"4972022a-26fd-4270-b614-506a9c951be6\",56,\"Payload delivery\",\"ip-src\",\"149.23.54.3\",\"today - 3 days\",1,1622184578,\"\",\"admiralty-scale:information-credibility=\"\"1\"\",admiralty-scale:source-reliability=\"\"a\"\"\",\"\",\"\",\"\"\n",
      "\"c661cd4b-0474-48eb-b4ed-eb02f6b569ea\",56,\"Payload delivery\",\"ip-src\",\"149.23.54.4\",\"today - 4 days\",1,1622184578,\"\",\"\",\"\",\"\",\"\"\n",
      "\"42f68239-a794-492c-8fed-7520677824b0\",56,\"Payload delivery\",\"ip-src\",\"149.23.54.5\",\"today - 5 days\",1,1622184578,\"\",\"\",\"\",\"\",\"\"\n",
      "\"d6404ba7-c847-49b8-8748-3029ce62e2b0\",56,\"Payload delivery\",\"ip-src\",\"149.23.54.6\",\"today - 6 days\",1,1622184578,\"\",\"\",\"\",\"\",\"\"\n",
      "\"7d6e98a3-6a89-4446-85bd-f67217979cbe\",59,\"Network activity\",\"ip-src\",\"1.1.1.1\",\"\",0,1713083076,\"\",\"\",\"\",\"\",\"\"\n",
      "\n",
      "\n"
     ]
    }
   ],
   "source": [
    "r1 = misp.search(\n",
    "    controller='attributes',\n",
    "    type_attribute=['ip-src', 'ip-dst'],\n",
    "    return_format='csv')\n",
    "print(r1)"
   ]
  },
  {
   "cell_type": "markdown",
   "metadata": {},
   "source": [
    "**Aggregated context** with `context-markdown`, `context` and `attack`"
   ]
  },
  {
   "cell_type": "code",
   "execution_count": 6,
   "metadata": {},
   "outputs": [
    {
     "name": "stdout",
     "output_type": "stream",
     "text": [
      "# Aggregated context data\n",
      "## Tags and Taxonomies\n",
      "#### PAP\n",
      "*The Permissible Actions Protocol - or short: PAP - was designed to indicate how the received information can be used.*\n",
      "- <span class=\"tag-container\"><span class=\"tag\" style=\"background-color: #ff0000; color: white\">PAP:RED</span></span>\n",
      "\n",
      "    - **RED**: (PAP:RED) Non-detectable actions only. Recipients may not use PAP:RED information on the network. Only passive actions on logs, that are not detectable from the outside.\n",
      "#### access-method\n",
      "*The access method used to remotely access a system.*\n",
      "- <span class=\"tag-container\"><span class=\"tag\" style=\"background-color: #996e00; color: white\">access-method:stolen-credentials</span></span>\n",
      "\n",
      "    - **stolen-credentials**: Stolen credentials\n",
      "#### admiralty-scale\n",
      "*The Admiralty Scale or Ranking (also called the NATO System) is used to rank the reliability of a source and the credibility of an information. Reference based on FM 2-22.3 (FM 34-52) HUMAN INTELLIGENCE COLLECTOR OPERATIONS and NATO documents.*\n",
      "- <span class=\"tag-container\"><span class=\"tag\" style=\"background-color: #0eb100; color: white\">admiralty-scale:information-credibility=&quot;1&quot;</span></span>\n",
      "\n",
      "    - **information-credibility**: Information Credibility\n",
      "    - **1**: Confirmed by other sources\n",
      "- <span class=\"tag-container\"><span class=\"tag\" style=\"background-color: #0fc000; color: white\">admiralty-scale:information-credibility=&quot;2&quot;</span></span>\n",
      "\n",
      "    - **information-credibility**: Information Credibility\n",
      "    - **2**: Probably true\n",
      "- <span class=\"tag-container\"><span class=\"tag\" style=\"background-color: #054300; color: white\">admiralty-scale:source-reliability=&quot;a&quot;</span></span>\n",
      "\n",
      "    - **source-reliability**: Source Reliability\n",
      "    - **a**: Completely reliable\n",
      "- <span class=\"tag-container\"><span class=\"tag\" style=\"background-color: #075200; color: white\">admiralty-scale:source-reliability=&quot;b&quot;</span></span>\n",
      "\n",
      "    - **source-reliability**: Source Reliability\n",
      "    - **b**: Usually reliable\n",
      "#### circl\n",
      "*CIRCL Taxonomy - Schemes of Classification in Incident Response and Detection*\n",
      "- <span class=\"tag-container\"><span class=\"tag\" style=\"background-color: #418100; color: white\">circl:incident-classification=&quot;vulnerability&quot;</span></span>\n",
      "\n",
      "    - **incident-classification**: Incident Classification\n",
      "    - **vulnerability**: Vulnerability\n",
      "#### domain-abuse\n",
      "*Domain Name Abuse - taxonomy to tag domain names used for cybercrime.*\n",
      "- <span class=\"tag-container\"><span class=\"tag\" style=\"background-color: #ee4700; color: white\">domain-abuse:domain-access-method=&quot;compromised-domain-name-registrar&quot;</span></span>\n",
      "\n",
      "    - **domain-access-method**: Domain access method\n",
      "    - **compromised-domain-name-registrar**: Compromised domain name registrar\n",
      "#### economical-impact\n",
      "*Economical impact is a taxonomy to describe the financial impact as positive or negative gain to the tagged information (e.g. data exfiltration loss, a positive gain for an adversary).*\n",
      "- <span class=\"tag-container\"><span class=\"tag\" style=\"background-color: #038e00; color: white\">economical-impact:loss=&quot;less-than-1B-euro&quot;</span></span>\n",
      "\n",
      "    - **loss**: Loss\n",
      "    - **less-than-1B-euro**: Less than 1 billion EUR\n",
      "#### enisa\n",
      "*The present threat taxonomy is an initial version that has been developed on the basis of available ENISA material. This material has been used as an ENISA-internal structuring aid for information collection and threat consolidation purposes. It emerged in the time period 2012-2015.*\n",
      "- <span class=\"tag-container\"><span class=\"tag\" style=\"background-color: #3bb800; color: white\">enisa:nefarious-activity-abuse=&quot;spear-phishing-attacks&quot;</span></span>\n",
      "\n",
      "    - **nefarious-activity-abuse**: Nefarious Activity/ Abuse\n",
      "    - **spear-phishing-attacks**: Spear phishing attacks\n",
      "#### estimative-language\n",
      "*Estimative language to describe quality and credibility of underlying sources, data, and methodologies based Intelligence Community Directive 203 (ICD 203) and JP 2-0, Joint Intelligence*\n",
      "- <span class=\"tag-container\"><span class=\"tag\" style=\"background-color: #001fc2; color: white\">estimative-language:likelihood-probability=&quot;almost-certain&quot;</span></span>\n",
      "\n",
      "    - **likelihood-probability**: Likelihood or probability\n",
      "    - **almost-certain**: Almost certain(ly) - nearly certain - 95-99%\n",
      "- <span class=\"tag-container\"><span class=\"tag\" style=\"background-color: #001cad; color: white\">estimative-language:likelihood-probability=&quot;very-likely&quot;</span></span>\n",
      "\n",
      "    - **likelihood-probability**: Likelihood or probability\n",
      "    - **very-likely**: Very likely - highly probable - 80-95%\n",
      "#### infoleak\n",
      "*A taxonomy describing information leaks and especially information classified as being potentially leaked. The taxonomy is based on the work by CIRCL on the AIL framework. The taxonomy aim is to be used at large to improve classification of leaked information.*\n",
      "- <span class=\"tag-container\"><span class=\"tag\" style=\"background-color: #af4206; color: white\">infoleak:automatic-detection=&quot;bitcoin-address&quot;</span></span>\n",
      "\n",
      "    - **automatic-detection**: Type of information leak detected from automatic analysis\n",
      "    - **bitcoin-address**: Bitcoin address\n",
      "#### osint\n",
      "*Open Source Intelligence - Classification (MISP taxonomies)*\n",
      "- <span class=\"tag-container\"><span class=\"tag\" style=\"background-color: #0087e8; color: white\">osint:certainty=&quot;50&quot;</span></span>\n",
      "\n",
      "    - **certainty**: Certainty of the elements mentioned in this Open Source Intelligence\n",
      "    - **50**: Chances about even (probability equals 0.50 - 50%)\n",
      "- <span class=\"tag-container\"><span class=\"tag\" style=\"background-color: #007ed9; color: white\">osint:certainty=&quot;93&quot;</span></span>\n",
      "\n",
      "    - **certainty**: Certainty of the elements mentioned in this Open Source Intelligence\n",
      "    - **93**: Almost certain (probability equals 0.93 - 93%)\n",
      "- <span class=\"tag-container\"><span class=\"tag\" style=\"background-color: #0071c3; color: white\">osint:lifetime=&quot;perpetual&quot;</span></span>\n",
      "\n",
      "    - **lifetime**: Lifetime of the information as Open Source Intelligence\n",
      "    - **perpetual**: Perpetual\n",
      "- <span class=\"tag-container\"><span class=\"tag\" style=\"background-color: #002b4a; color: white\">osint:source-type=&quot;technical-report&quot;</span></span>\n",
      "\n",
      "    - **source-type**: Source Type\n",
      "    - **technical-report**: Technical or analysis report\n",
      "#### tlp\n",
      "*The Traffic Light Protocol (TLP) (v2.0) was created to facilitate greater sharing of potentially sensitive information and more effective collaboration. Information sharing happens from an information source, towards one or more recipients. TLP is a set of four standard labels (a fifth label is included in amber to limit the diffusion) used to indicate the sharing boundaries to be applied by the recipients. Only labels listed in this standard are considered valid by FIRST. This taxonomy includes additional labels for backward compatibility which are no more validated by FIRST SIG.*\n",
      "- <span class=\"tag-container\"><span class=\"tag\" style=\"background-color: #FFC000; color: black\">tlp:amber+strict</span></span>\n",
      "\n",
      "    - **amber+strict**: Limited disclosure, recipients can only spread this on a need-to-know basis within their organization.\n",
      "- <span class=\"tag-container\"><span class=\"tag\" style=\"background-color: #ffffff; color: black\">tlp:clear</span></span>\n",
      "\n",
      "    - **clear**: (TLP:CLEAR) Recipients can spread this to the world, there is no limit on disclosure.\n",
      "- <span class=\"tag-container\"><span class=\"tag\" style=\"background-color: #33FF00; color: black\">tlp:green</span></span>\n",
      "\n",
      "    - **green**: (TLP:GREEN) Limited disclosure, recipients can spread this within their community.\n",
      "- <span class=\"tag-container\"><span class=\"tag\" style=\"background-color: #FF2B2B; color: white\">tlp:red</span></span>\n",
      "\n",
      "    - **red**: (TLP:RED) For the eyes and ears of individual recipients only, no further disclosure.\n",
      "- <span class=\"tag-container\"><span class=\"tag\" style=\"background-color: #ffffff; color: black\">tlp:white</span></span>\n",
      "\n",
      "    - **white**: (TLP:WHITE) Information can be shared publicly in accordance with the law.\n",
      "#### type\n",
      "*Taxonomy to describe different types of intelligence gathering discipline which can be described the origin of intelligence.*\n",
      "- <span class=\"tag-container\"><span class=\"tag\" style=\"background-color: #004646; color: white\">type:OSINT</span></span>\n",
      "\n",
      "    - **OSINT**: Open Source Intelligence\n",
      "#### workflow\n",
      "*Workflow support language is a common language to support intelligence analysts to perform their analysis on data and information.*\n",
      "- <span class=\"tag-container\"><span class=\"tag\" style=\"background-color: #e9007e; color: white\">workflow:state=&quot;draft&quot;</span></span>\n",
      "\n",
      "    - **state**: State\n",
      "    - **draft**: Draft means the information tagged can be released as a preliminary version or outline.\n",
      "- <span class=\"tag-container\"><span class=\"tag\" style=\"background-color: #db0076; color: white\">workflow:state=&quot;incomplete&quot;</span></span>\n",
      "\n",
      "    - **state**: State\n",
      "    - **incomplete**: Incomplete means that the information tagged is incomplete and has potential to be completed by other analysts, technical processes or the current analysts performing the analysis.\n",
      "## Galaxy Clusters\n",
      "#### <i class=\"fas fa-globe\"></i> Country\n",
      "*Country meta information based on the database provided by geonames.org.*\n",
      "- *[russia](https://training.misp-community.org/galaxy_clusters/view/14623)*\n",
      "Russia\n",
      "#### <i class=\"fas fa-map\"></i> attck4fraud\n",
      "*attck4fraud - Principles of MITRE ATT&amp;CK in the fraud domain*\n",
      "- *[ATM Black Box Attack](https://training.misp-community.org/galaxy_clusters/view/575)*\n",
      "Type of Jackpotting attack. Connection of an unauthorized device which sends dispense commands directly to the ATM cash dispenser in order to “cash out” the ATM.\n",
      "#### <i class=\"fas fa-map\"></i> Attack Pattern\n",
      "*ATT&amp;CK Tactic*\n",
      "- *[Asymmetric Cryptography - T1573.002](https://training.misp-community.org/galaxy_clusters/view/5291)*\n",
      "Adversaries may employ a known asymmetric encryption algorithm to conceal command and control traffic rather than relying on any inherent protections provided by a communication protocol. Asymmetric cryptography, also known as public key cryptography, uses a keypair per party: one public that can be...\n",
      "- *[Clear Command History - T1070.003](https://training.misp-community.org/galaxy_clusters/view/4842)*\n",
      "In addition to clearing system logs, an adversary may clear the command history of a compromised account to conceal the actions undertaken during an intrusion. Various command interpreters keep track of the commands users type in their terminal so that users can retrace what they&#039;ve done.\n",
      "\n",
      "On L...\n",
      "- *[Compromise Client Software Binary - T1554](https://training.misp-community.org/galaxy_clusters/view/4806)*\n",
      "Adversaries may modify client software binaries to establish persistent access to systems. Client software enables users to access services provided by a server. Common client software types are SSH clients, FTP clients, email clients, and web browsers.\n",
      "\n",
      "Adversaries may make modifications to client ...\n",
      "- *[Defacement - T1491](https://training.misp-community.org/galaxy_clusters/view/5614)*\n",
      "Adversaries may modify visual content available internally or externally to an enterprise network, thus affecting the integrity of the original content. Reasons for [Defacement](https://attack.mitre.org/techniques/T1491) include delivering messaging, intimidation, or claiming (possibly false) credit...\n",
      "- *[Exploit Public-Facing Application - T1190](https://training.misp-community.org/galaxy_clusters/view/4825)*\n",
      "Adversaries may attempt to exploit a weakness in an Internet-facing host or system to initially access a network. The weakness in the system can be a software bug, a temporary glitch, or a misconfiguration.\n",
      "\n",
      "Exploited applications are often websites/web servers, but can also include databases (like ...\n",
      "- *[External Remote Services - T1133](https://training.misp-community.org/galaxy_clusters/view/5048)*\n",
      "Adversaries may leverage external-facing remote services to initially access and/or persist within a network. Remote services such as VPNs, Citrix, and other access mechanisms allow users to connect to internal enterprise network resources from external locations. There are often remote service gate...\n",
      "- *[Multi-hop Proxy - T1090.003](https://training.misp-community.org/galaxy_clusters/view/5153)*\n",
      "To disguise the source of malicious traffic, adversaries may chain together multiple proxies. Typically, a defender will be able to identify the last proxy traffic traversed before it enters their network; the defender may or may not be able to identify any previous proxies before the last-hop proxy...\n",
      "- *[Obfuscated Files or Information - T1027](https://training.misp-community.org/galaxy_clusters/view/4727)*\n",
      "Adversaries may attempt to make an executable or file difficult to discover or analyze by encrypting, encoding, or otherwise obfuscating its contents on the system or in transit. This is common behavior that can be used across different platforms and the network to evade defenses. \n",
      "\n",
      "Payloads may be ...\n",
      "- *[Spearphishing Attachment - T1193](https://training.misp-community.org/galaxy_clusters/view/5453)*\n",
      "Spearphishing attachment is a specific variant of spearphishing. Spearphishing attachment is different from other forms of spearphishing in that it employs the use of malware attached to an email. All forms of spearphishing are electronically delivered social engineering targeted at a specific indiv...\n",
      "- *[Spearphishing Link - T1192](https://training.misp-community.org/galaxy_clusters/view/5444)*\n",
      "Spearphishing with a link is a specific variant of spearphishing. It is different from other forms of spearphishing in that it employs the use of links to download malware contained in email, instead of attaching malicious files to the email itself, to avoid defenses that may inspect email attachmen...\n",
      "- *[Symmetric Cryptography - T1573.001](https://training.misp-community.org/galaxy_clusters/view/5271)*\n",
      "Adversaries may employ a known symmetric encryption algorithm to conceal command and control traffic rather than relying on any inherent protections provided by a communication protocol. Symmetric encryption algorithms use the same key for plaintext encryption and ciphertext decryption. Common symme...\n",
      "- *[Timestomp - T1070.006](https://training.misp-community.org/galaxy_clusters/view/5528)*\n",
      "Adversaries may modify file time attributes to hide new or changes to existing files. Timestomping is a technique that modifies the timestamps of a file (the modify, access, create, and change times), often to mimic files that are in the same folder. This is done, for example, on files that have bee...\n",
      "- *[Traffic Signaling - T1205](https://training.misp-community.org/galaxy_clusters/view/5396)*\n",
      "Adversaries may use traffic signaling to hide open ports or other malicious functionality used for persistence or command and control. Traffic signaling involves the use of a magic value or sequence that must be sent to a system to trigger a special response, such as opening a closed port or executi...\n",
      "- *[Vulnerabilities - T1588.006](https://training.misp-community.org/galaxy_clusters/view/5584)*\n",
      "Adversaries may acquire information about vulnerabilities that can be used during targeting. A vulnerability is a weakness in computer hardware or software that can, potentially, be exploited by an adversary to cause unintended or unanticipated behavior to occur. Adversaries may find vulnerability i...\n",
      "#### <i class=\"fas fa-link\"></i> Course of Action\n",
      "*ATT&amp;CK Mitigation*\n",
      "- *[Multi-factor Authentication - M1032](https://training.misp-community.org/galaxy_clusters/view/5854)*\n",
      "Use two or more pieces of evidence to authenticate to a system; such as username and password in addition to a token from a physical smart card or token generator.\n",
      "#### <i class=\"fas fa-user-ninja\"></i> Techniques\n",
      "*ATT&amp;CK for ICS Techniques*\n",
      "- *[Spearphishing Attachment](https://training.misp-community.org/galaxy_clusters/view/6753)*\n",
      "Adversaries may use a spearphishing attachment, a variant of spearphishing, as a form of a social engineering attack against specific targets. Spearphishing attachments are different from other forms of spearphishing in that they employ malware attached to an email. All forms of spearphishing are el...\n",
      "#### <i class=\"fab fa-btc\"></i> Ransomware\n",
      "*Ransomware galaxy based on https://docs.google.com/spreadsheets/d/1TWS238xacAto-fLKh1n5uTsdijWdCEsGIM0Y0Hvmc5g/pubhtml*\n",
      "- *[Conti](https://training.misp-community.org/galaxy_clusters/view/9554)*\n",
      "Conti ransomware is a RaaS and has been observed encrypting networks since mid-2020.\n",
      "Conti was developed by the “TrickBot” group, an organized Russian cybercriminal operation. Their reputation has allowed the group to create a strong brand name, attracting many affiliates which has made Conti on...\n",
      "- *[Korean](https://training.misp-community.org/galaxy_clusters/view/8410)*\n",
      "Ransomware Based on HiddenTear\n",
      "#### <i class=\"fas fa-globe-europe\"></i> Regions UN M49\n",
      "*Regions based on UN M49.*\n",
      "- *[021 - Northern America](https://training.misp-community.org/galaxy_clusters/view/10024)*\n",
      "\n",
      "- *[142 - Asia](https://training.misp-community.org/galaxy_clusters/view/10034)*\n",
      "\n",
      "- *[150 - Europe](https://training.misp-community.org/galaxy_clusters/view/10037)*\n",
      "\n",
      "#### <i class=\"fas fa-industry\"></i> Sector\n",
      "*Activity sectors*\n",
      "- *[Academia - University](https://training.misp-community.org/galaxy_clusters/view/18422)*\n",
      "\n",
      "- *[Government, Administration](https://training.misp-community.org/galaxy_clusters/view/18448)*\n",
      "\n",
      "- *[IT - ISP](https://training.misp-community.org/galaxy_clusters/view/18456)*\n",
      "\n",
      "- *[Marketing](https://training.misp-community.org/galaxy_clusters/view/18526)*\n",
      "\n",
      "#### <i class=\"fas fa-bullseye\"></i> Target Information\n",
      "*Description of targets of threat actors.*\n",
      "- *[France](https://training.misp-community.org/galaxy_clusters/view/13207)*\n",
      "\n",
      "- *[Luxembourg](https://training.misp-community.org/galaxy_clusters/view/13134)*\n",
      "\n",
      "- *[Netherlands](https://training.misp-community.org/galaxy_clusters/view/13281)*\n",
      "\n",
      "#### <i class=\"fas fa-user-secret\"></i> Threat Actor\n",
      "*Threat actors are characteristics of malicious actors (or adversaries) representing a cyber attack threat including presumed intent and historically observed behaviour.*\n",
      "- *[Deadeye Jackal](https://training.misp-community.org/galaxy_clusters/view/18607)*\n",
      "The Syrian Electronic Army (SEA) is a group of computer hackers which first surfaced online in 2011 to support the government of Syrian President Bashar al-Assad. Using spamming, website defacement, malware, phishing, and denial of service attacks, it has targeted political opposition groups, wester...\n"
     ]
    }
   ],
   "source": [
    "# Get the context of Events that were created by organisations from the financial sector\n",
    "\n",
    "body = {\n",
    "    'returnFormat': 'context-markdown',\n",
    "    'org.sector': ['financial'],\n",
    "}\n",
    "\n",
    "r2 = misp.direct_call('/events/restSearch', body)\n",
    "print(r2)"
   ]
  },
  {
   "cell_type": "code",
   "execution_count": 7,
   "metadata": {},
   "outputs": [],
   "source": [
    "# Get the context of Events that had the threat actor APT-29 attached\n",
    "\n",
    "body = {\n",
    "    'returnFormat': 'context',\n",
    "    'tags': ['misp-galaxy:threat-actor=\\\"APT 29\\\"'],\n",
    "    'staticHtml': 1, # If you want a JS-free HTML\n",
    "}\n",
    "\n",
    "r2 = misp.direct_call('/events/restSearch', body)\n",
    "with open('/tmp/attackOutput.html', 'w') as f:\n",
    "    f.write(r2)\n",
    "    # subprocess.run(['google-chrome', '--incognito', '/tmp/attackOutput.html'])\n"
   ]
  },
  {
   "cell_type": "markdown",
   "metadata": {},
   "source": [
    "#### Be carefull with the amount of data you ask, use `pagination` if needed\n",
    "\n",
    "- `limit`: Specify the amount of data to be returned\n",
    "- `page`: Specify the start of the rolling window. Is **not** zero-indexed\n",
    "\n",
    "If the size of the returned data is larger than the memory enveloppe you might get a different behavior based on your MISP setting:\n",
    "- Nothing returned. Allowed memeory by PHP process exausted\n",
    "- Data returned but slow. MISP will concatenante the returned data in a temporary file on disk\n",
    "    - This behavior is only applicable for `/*/restSearch` endpoints"
   ]
  },
  {
   "cell_type": "code",
   "execution_count": 8,
   "metadata": {},
   "outputs": [
    {
     "name": "stdout",
     "output_type": "stream",
     "text": [
      "Amount of Attributes 615\n",
      "Amount of paginated Attributes 5\n"
     ]
    }
   ],
   "source": [
    "r1 = misp.search(controller='attributes', pythonify=True)\n",
    "print('Amount of Attributes', len(r1))\n",
    "\n",
    "r2 = misp.search(\n",
    "    controller='attributes',\n",
    "    page=1,\n",
    "    limit=5,\n",
    "    pythonify=True)\n",
    "print('Amount of paginated Attributes', len(r2))"
   ]
  },
  {
   "cell_type": "markdown",
   "metadata": {},
   "source": [
    "## Searching for Sightings"
   ]
  },
  {
   "cell_type": "code",
   "execution_count": 10,
   "metadata": {},
   "outputs": [
    {
     "name": "stdout",
     "output_type": "stream",
     "text": [
      "[{'Sighting': {'Organisation': {'id': '15',\n",
      "                                'name': 'CIRCL',\n",
      "                                'uuid': '55f6ea5e-2c60-40e5-964f-47a8950d210f'},\n",
      "               'attribute_id': '3361',\n",
      "               'date_sighting': '1713153547',\n",
      "               'event_id': '62',\n",
      "               'id': '101',\n",
      "               'org_id': '15',\n",
      "               'source': '',\n",
      "               'type': '0',\n",
      "               'uuid': 'f80e5d2b-d6a0-4127-9c09-654722470a44',\n",
      "               'value': 'John'}}]\n"
     ]
    }
   ],
   "source": [
    "body = {\n",
    "    'last': '7d'\n",
    "}\n",
    "\n",
    "sightings = misp.direct_call('/sightings/restSearch', body)\n",
    "pprint(sightings)"
   ]
  },
  {
   "cell_type": "markdown",
   "metadata": {},
   "source": [
    "## Plotting data"
   ]
  },
  {
   "cell_type": "markdown",
   "metadata": {},
   "source": [
    "#### Sightings over time"
   ]
  },
  {
   "cell_type": "code",
   "execution_count": 11,
   "metadata": {},
   "outputs": [],
   "source": [
    "import pandas as pd\n",
    "import matplotlib.pyplot as plt"
   ]
  },
  {
   "cell_type": "code",
   "execution_count": 12,
   "metadata": {},
   "outputs": [
    {
     "name": "stderr",
     "output_type": "stream",
     "text": [
      "/tmp/ipykernel_169481/2015836940.py:4: FutureWarning: The behavior of 'to_datetime' with 'unit' when parsing strings is deprecated. In a future version, strings will be parsed as datetime strings, matching the behavior without a 'unit'. To retain the old behavior, explicitly cast ints or floats to numeric type before calling to_datetime.\n",
      "  df[\"date_sighting\"] = pd.to_datetime(df[\"date_sighting\"], unit='s')\n"
     ]
    },
    {
     "data": {
      "text/html": [
       "<div>\n",
       "<style scoped>\n",
       "    .dataframe tbody tr th:only-of-type {\n",
       "        vertical-align: middle;\n",
       "    }\n",
       "\n",
       "    .dataframe tbody tr th {\n",
       "        vertical-align: top;\n",
       "    }\n",
       "\n",
       "    .dataframe thead th {\n",
       "        text-align: right;\n",
       "    }\n",
       "</style>\n",
       "<table border=\"1\" class=\"dataframe\">\n",
       "  <thead>\n",
       "    <tr style=\"text-align: right;\">\n",
       "      <th></th>\n",
       "      <th>id</th>\n",
       "      <th>attribute_id</th>\n",
       "      <th>event_id</th>\n",
       "      <th>org_id</th>\n",
       "      <th>date_sighting</th>\n",
       "      <th>uuid</th>\n",
       "      <th>source</th>\n",
       "      <th>type</th>\n",
       "      <th>value</th>\n",
       "      <th>Organisation</th>\n",
       "      <th>one</th>\n",
       "    </tr>\n",
       "  </thead>\n",
       "  <tbody>\n",
       "    <tr>\n",
       "      <th>0</th>\n",
       "      <td>101</td>\n",
       "      <td>3361</td>\n",
       "      <td>62</td>\n",
       "      <td>15</td>\n",
       "      <td>2024-04-15 03:58:56</td>\n",
       "      <td>f80e5d2b-d6a0-4127-9c09-654722470a44</td>\n",
       "      <td></td>\n",
       "      <td>0</td>\n",
       "      <td>John</td>\n",
       "      <td>{'id': '15', 'uuid': '55f6ea5e-2c60-40e5-964f-...</td>\n",
       "      <td>1</td>\n",
       "    </tr>\n",
       "  </tbody>\n",
       "</table>\n",
       "</div>"
      ],
      "text/plain": [
       "    id attribute_id event_id org_id       date_sighting  \\\n",
       "0  101         3361       62     15 2024-04-15 03:58:56   \n",
       "\n",
       "                                   uuid source type value  \\\n",
       "0  f80e5d2b-d6a0-4127-9c09-654722470a44           0  John   \n",
       "\n",
       "                                        Organisation  one  \n",
       "0  {'id': '15', 'uuid': '55f6ea5e-2c60-40e5-964f-...    1  "
      ]
     },
     "execution_count": 12,
     "metadata": {},
     "output_type": "execute_result"
    }
   ],
   "source": [
    "# Converting our data to Panda DataFrame\n",
    "sighting_rearranged = [sighting['Sighting'] for sighting in sightings]\n",
    "df = pd.DataFrame.from_dict(sighting_rearranged)\n",
    "df[\"date_sighting\"] = pd.to_datetime(df[\"date_sighting\"], unit='s')\n",
    "df['one'] = 1\n",
    "df"
   ]
  },
  {
   "cell_type": "code",
   "execution_count": 13,
   "metadata": {},
   "outputs": [
    {
     "name": "stdout",
     "output_type": "stream",
     "text": [
      "Min and Max: 2024-04-15 03:58:56 2024-04-15 03:58:56\n",
      "Time delta: 0 days 00:00:00\n",
      "Unique Event IDs: ['62']\n"
     ]
    }
   ],
   "source": [
    "print('Min and Max:', df['date_sighting'].min(), df['date_sighting'].max())\n",
    "print('Time delta:', df['date_sighting'].max() - df['date_sighting'].min())\n",
    "print('Unique Event IDs:', df.event_id.unique())"
   ]
  },
  {
   "cell_type": "code",
   "execution_count": 14,
   "metadata": {},
   "outputs": [
    {
     "name": "stdout",
     "output_type": "stream",
     "text": [
      "attribute_id\n",
      "3361    1\n",
      "Name: count, dtype: int64\n"
     ]
    },
    {
     "data": {
      "text/plain": [
       "<Axes: xlabel='attribute_id'>"
      ]
     },
     "execution_count": 14,
     "metadata": {},
     "output_type": "execute_result"
    },
    {
     "data": {
      "image/png": "[encoded data removed]",
      "text/plain": [
       "<Figure size 640x480 with 1 Axes>"
      ]
     },
     "metadata": {},
     "output_type": "display_data"
    }
   ],
   "source": [
    "# Grouping by Attribute value\n",
    "value_count = df['attribute_id'].value_counts()\n",
    "print(value_count)\n",
    "value_count.plot(kind='bar', rot=45)"
   ]
  },
  {
   "cell_type": "code",
   "execution_count": 15,
   "metadata": {},
   "outputs": [
    {
     "name": "stdout",
     "output_type": "stream",
     "text": [
      "date_sighting\n",
      "0    1\n",
      "Name: count, dtype: int64\n"
     ]
    },
    {
     "data": {
      "text/plain": [
       "<Axes: xlabel='date_sighting'>"
      ]
     },
     "execution_count": 15,
     "metadata": {},
     "output_type": "execute_result"
    },
    {
     "data": {
      "image/png": "[encoded data removed]",
      "text/plain": [
       "<Figure size 640x480 with 1 Axes>"
      ]
     },
     "metadata": {},
     "output_type": "display_data"
    }
   ],
   "source": [
    "# Grouping by weekday (0-indexed)\n",
    "amount_per_weekday = df['date_sighting'].dt.weekday.value_counts()\n",
    "print(amount_per_weekday)\n",
    "amount_per_weekday.plot(kind='bar', rot=0)"
   ]
  },
  {
   "cell_type": "code",
   "execution_count": 16,
   "metadata": {},
   "outputs": [
    {
     "name": "stdout",
     "output_type": "stream",
     "text": [
      "date_sighting\n",
      "3    1\n",
      "Name: one, dtype: int64\n"
     ]
    },
    {
     "data": {
      "text/plain": [
       "<Axes: xlabel='date_sighting'>"
      ]
     },
     "execution_count": 16,
     "metadata": {},
     "output_type": "execute_result"
    },
    {
     "data": {
      "image/png": "[encoded data removed]",
      "text/plain": [
       "<Figure size 640x480 with 1 Axes>"
      ]
     },
     "metadata": {},
     "output_type": "display_data"
    }
   ],
   "source": [
    "amount_per_weekday_for_each_attribute = df.groupby([df['date_sighting'].dt.hour])['one'].sum()\n",
    "print(amount_per_weekday_for_each_attribute)\n",
    "amount_per_weekday_for_each_attribute.plot(kind='bar', rot=0)"
   ]
  },
  {
   "cell_type": "code",
   "execution_count": null,
   "metadata": {},
   "outputs": [],
   "source": []
  }
 ],
 "metadata": {
  "kernelspec": {
   "display_name": "Python 3 (ipykernel)",
   "language": "python",
   "name": "python3"
  },
  "language_info": {
   "codemirror_mode": {
    "name": "ipython",
    "version": 3
   },
   "file_extension": ".py",
   "mimetype": "text/x-python",
   "name": "python",
   "nbconvert_exporter": "python",
   "pygments_lexer": "ipython3",
   "version": "3.10.12"
  },
  "vscode": {
   "interpreter": {
    "hash": "99e19f785595e5572f3a0434505ffd496bc893a60c3b4501be593ee9ddcf6bde"
   }
  }
 },
 "nbformat": 4,
 "nbformat_minor": 4
}
